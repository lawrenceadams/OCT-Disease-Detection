{
 "cells": [
  {
   "cell_type": "code",
   "execution_count": 35,
   "id": "b006f2ed",
   "metadata": {},
   "outputs": [],
   "source": [
    "import torch\n",
    "from torch import nn\n",
    "from torchvision import datasets, transforms"
   ]
  },
  {
   "cell_type": "markdown",
   "id": "ab792253",
   "metadata": {},
   "source": [
    "## 1. Parameters"
   ]
  },
  {
   "cell_type": "code",
   "execution_count": 36,
   "id": "aeecd59e",
   "metadata": {},
   "outputs": [],
   "source": [
    "# dataset\n",
    "input_shape = 300\n",
    "num_classes = 2\n",
    "\n",
    "# hyper\n",
    "batch_size = 4\n",
    "num_epochs = 5\n",
    "learning_rate = 0.001\n",
    "\n",
    "# gpu\n",
    "#device = torch.device('cuda' if torch.cuda.is_available() else 'cpu')"
   ]
  },
  {
   "cell_type": "markdown",
   "id": "aa81b19e",
   "metadata": {},
   "source": [
    "## 2. Dataset and Dataloader"
   ]
  },
  {
   "cell_type": "code",
   "execution_count": 37,
   "id": "f6be3afd",
   "metadata": {},
   "outputs": [
    {
     "name": "stderr",
     "output_type": "stream",
     "text": [
      "Copying files: 258 files [00:00, 413.78 files/s]\n"
     ]
    }
   ],
   "source": [
    "import splitfolders\n",
    "raw = './raw'\n",
    "split = './processed'\n",
    "splitfolders.ratio(raw, split, seed = 1337, ratio = (0.7, 0.3))"
   ]
  },
  {
   "cell_type": "code",
   "execution_count": 38,
   "id": "e416e6a3",
   "metadata": {},
   "outputs": [],
   "source": [
    "data_transfrom = transforms.Compose([  \n",
    "    transforms.ToTensor(),             \n",
    "    transforms.Normalize((0.5, 0.5, 0.5), (0.5, 0.5, 0.5)),\n",
    "    transforms.Resize((300, 300)),\n",
    "])\n",
    " \n",
    "trainset = datasets.ImageFolder('./processed/train', transform = data_transfrom) \n",
    "testset = datasets.ImageFolder('./processed/val', transform = data_transfrom) \n",
    "\n",
    "classes = ('AMD', 'NORMAL')"
   ]
  },
  {
   "cell_type": "code",
   "execution_count": 39,
   "id": "0b378578",
   "metadata": {},
   "outputs": [],
   "source": [
    "trainloader = torch.utils.data.DataLoader(dataset = trainset, \n",
    "                                          batch_size = batch_size, \n",
    "                                          shuffle = True, \n",
    "                                          num_workers = 1) \n",
    "testloader = torch.utils.data.DataLoader(dataset = testset, \n",
    "                                         batch_size = batch_size, \n",
    "                                         shuffle = True, \n",
    "                                         num_workers = 1)"
   ]
  },
  {
   "cell_type": "code",
   "execution_count": 40,
   "id": "096acb93",
   "metadata": {},
   "outputs": [],
   "source": [
    "images, labels = next(iter(trainloader))"
   ]
  },
  {
   "cell_type": "code",
   "execution_count": 41,
   "id": "5fbcad22",
   "metadata": {},
   "outputs": [
    {
     "data": {
      "text/plain": [
       "torch.Size([4, 3, 300, 300])"
      ]
     },
     "execution_count": 41,
     "metadata": {},
     "output_type": "execute_result"
    }
   ],
   "source": [
    "images.shape"
   ]
  },
  {
   "cell_type": "markdown",
   "id": "a11b2baf",
   "metadata": {},
   "source": [
    "## 3. Model Arch"
   ]
  },
  {
   "cell_type": "code",
   "execution_count": 42,
   "id": "b2e64560",
   "metadata": {},
   "outputs": [],
   "source": [
    "class CNN(nn.Module):\n",
    "    def __init__(self, input_shape, in_channels, num_classes):\n",
    "        super(CNN, self).__init__()\n",
    "        # conv2d: (b, 3, 300, 300) => (b, 9, 300, 300)\n",
    "        # maxpool2d: (b, 9, 300, 300) => (b, 9, 150, 150)\n",
    "        self.cnn1 = nn.Sequential(nn.Conv2d(in_channels = in_channels, out_channels = 9, \n",
    "                                            kernel_size = 5, padding = 2, stride = 1),\n",
    "                                  nn.BatchNorm2d(9),\n",
    "                                  nn.ReLU(),\n",
    "                                  nn.MaxPool2d(kernel_size = 2, stride = 2))\n",
    "        # conv2d: (b, 9, 150, 150) => (b, 27, 150, 150)\n",
    "        # maxpool2d: (b, 27, 150, 150) => (b, 27, 75, 75)\n",
    "        self.cnn2 = nn.Sequential(nn.Conv2d(in_channels = 9, out_channels = 27, \n",
    "                                            kernel_size = 5, padding = 2, stride = 1),\n",
    "                                  nn.BatchNorm2d(27),\n",
    "                                  nn.ReLU(),\n",
    "                                  nn.MaxPool2d(kernel_size = 2, stride = 2))\n",
    "        # (b, 27, 75, 75) => (b, 27*75*75)\n",
    "        # (b, 27*75*75) => (b, 2)\n",
    "        self.fc = nn.Linear(27*(input_shape//4)*(input_shape//4), num_classes)\n",
    "        \n",
    "    def forward(self, x):\n",
    "        out = self.cnn1(x)\n",
    "        out = self.cnn2(out)\n",
    "        out = out.reshape(out.size(0), -1)\n",
    "        out = self.fc(out)\n",
    "        return out"
   ]
  },
  {
   "cell_type": "markdown",
   "id": "d11f7a43",
   "metadata": {},
   "source": [
    "### Torchsummary"
   ]
  },
  {
   "cell_type": "code",
   "execution_count": 43,
   "id": "2f7dfcaa",
   "metadata": {},
   "outputs": [],
   "source": [
    "from torchsummary import summary"
   ]
  },
  {
   "cell_type": "code",
   "execution_count": 44,
   "id": "ed3a5441",
   "metadata": {},
   "outputs": [],
   "source": [
    "model = CNN(input_shape = 300, in_channels = 3, num_classes = 2)"
   ]
  },
  {
   "cell_type": "code",
   "execution_count": 45,
   "id": "241faa8c",
   "metadata": {},
   "outputs": [
    {
     "name": "stdout",
     "output_type": "stream",
     "text": [
      "----------------------------------------------------------------\n",
      "        Layer (type)               Output Shape         Param #\n",
      "================================================================\n",
      "            Conv2d-1           [4, 9, 300, 300]             684\n",
      "       BatchNorm2d-2           [4, 9, 300, 300]              18\n",
      "              ReLU-3           [4, 9, 300, 300]               0\n",
      "         MaxPool2d-4           [4, 9, 150, 150]               0\n",
      "            Conv2d-5          [4, 27, 150, 150]           6,102\n",
      "       BatchNorm2d-6          [4, 27, 150, 150]              54\n",
      "              ReLU-7          [4, 27, 150, 150]               0\n",
      "         MaxPool2d-8            [4, 27, 75, 75]               0\n",
      "            Linear-9                     [4, 2]         303,752\n",
      "================================================================\n",
      "Total params: 310,610\n",
      "Trainable params: 310,610\n",
      "Non-trainable params: 0\n",
      "----------------------------------------------------------------\n",
      "Input size (MB): 4.12\n",
      "Forward/backward pass size (MB): 140.59\n",
      "Params size (MB): 1.18\n",
      "Estimated Total Size (MB): 145.90\n",
      "----------------------------------------------------------------\n"
     ]
    }
   ],
   "source": [
    "summary(model, input_size = (3, 300, 300), batch_size = batch_size)"
   ]
  },
  {
   "cell_type": "markdown",
   "id": "ae5c94cb",
   "metadata": {},
   "source": [
    "## 4. Model Train"
   ]
  },
  {
   "cell_type": "code",
   "execution_count": 46,
   "id": "67ac7cb1",
   "metadata": {},
   "outputs": [],
   "source": [
    "criterion = nn.CrossEntropyLoss()\n",
    "optimizer = torch.optim.Adam(model.parameters(), lr = learning_rate)\n",
    "#optimizer = torch.optim.SGD(net.parameters(), lr=0.001, momentum=0.9)"
   ]
  },
  {
   "cell_type": "code",
   "execution_count": 47,
   "id": "d33ed73f",
   "metadata": {},
   "outputs": [],
   "source": [
    "total_batch = len(trainloader)"
   ]
  },
  {
   "cell_type": "code",
   "execution_count": 48,
   "id": "16297854",
   "metadata": {},
   "outputs": [
    {
     "name": "stdout",
     "output_type": "stream",
     "text": [
      "1/5, 10/45: 0.0000\n",
      "1/5, 20/45: 0.9935\n",
      "1/5, 30/45: 0.5984\n",
      "1/5, 40/45: 0.4045\n",
      "2/5, 10/45: 0.0365\n",
      "2/5, 20/45: 0.8584\n",
      "2/5, 30/45: 2.1471\n",
      "2/5, 40/45: 0.0002\n",
      "3/5, 10/45: 2.9572\n",
      "3/5, 20/45: 0.0016\n",
      "3/5, 30/45: 0.0052\n",
      "3/5, 40/45: 0.0069\n",
      "4/5, 10/45: 0.2080\n",
      "4/5, 20/45: 0.0007\n",
      "4/5, 30/45: 0.0242\n",
      "4/5, 40/45: 0.0025\n",
      "5/5, 10/45: 0.2814\n",
      "5/5, 20/45: 0.0777\n",
      "5/5, 30/45: 4.3173\n",
      "5/5, 40/45: 0.0003\n",
      "Finished Training\n"
     ]
    }
   ],
   "source": [
    "for epoch in range(num_epochs):\n",
    "    for batch_idx, (images, labels) in enumerate(trainloader):\n",
    "#         images = images.to(device)\n",
    "#         labels = labels.to(device)\n",
    "        \n",
    "        out = model(images)\n",
    "        loss = criterion(out, labels)\n",
    "        \n",
    "        optimizer.zero_grad()\n",
    "        loss.backward()\n",
    "        optimizer.step()\n",
    "        \n",
    "        if (batch_idx+1) % 10 == 0:\n",
    "            print(f'{epoch+1}/{num_epochs}, {batch_idx+1}/{total_batch}: {loss.item():.4f}')\n",
    "\n",
    "print('Finished Training')"
   ]
  },
  {
   "cell_type": "markdown",
   "id": "2f44b5ce",
   "metadata": {},
   "source": [
    "## 5. Model Evaluation"
   ]
  },
  {
   "cell_type": "code",
   "execution_count": 49,
   "id": "5f1406a9",
   "metadata": {},
   "outputs": [
    {
     "name": "stdout",
     "output_type": "stream",
     "text": [
      "71/79 = 0.8987341772151899\n"
     ]
    }
   ],
   "source": [
    "total = 0\n",
    "correct = 0\n",
    "for images, labels in testloader:\n",
    "#    images = images.to(device)\n",
    "#    labels = labels.to(device)\n",
    "    out = model(images)\n",
    "    preds = torch.argmax(out, dim = 1)\n",
    "    \n",
    "    total += images.size(0)\n",
    "    correct += (preds == labels).sum().item()\n",
    "print(f'{correct}/{total} = {correct/total}')"
   ]
  },
  {
   "cell_type": "code",
   "execution_count": 50,
   "id": "c57ad816",
   "metadata": {},
   "outputs": [
    {
     "name": "stdout",
     "output_type": "stream",
     "text": [
      "Accuracy for class: AMD   is 64.7 %\n",
      "Accuracy for class: NORMAL is 96.8 %\n"
     ]
    }
   ],
   "source": [
    "# prepare to count predictions for each class\n",
    "correct_pred = {classname: 0 for classname in classes}\n",
    "total_pred = {classname: 0 for classname in classes}\n",
    "\n",
    "# again no gradients needed\n",
    "with torch.no_grad():\n",
    "    for images, labels in testloader:\n",
    "        out = model(images)\n",
    "        _, predictions = torch.max(out, 1)\n",
    "        # collect the correct predictions for each class\n",
    "        for label, prediction in zip(labels, predictions):\n",
    "            if label == prediction:\n",
    "                correct_pred[classes[label]] += 1\n",
    "            total_pred[classes[label]] += 1\n",
    "\n",
    "# print accuracy for each class\n",
    "for classname, correct_count in correct_pred.items():\n",
    "    accuracy = 100 * float(correct_count) / total_pred[classname]\n",
    "    print(f'Accuracy for class: {classname:5s} is {accuracy:.1f} %')"
   ]
  },
  {
   "cell_type": "markdown",
   "id": "c5ed86c4",
   "metadata": {},
   "source": [
    "## 6. Model Save"
   ]
  },
  {
   "cell_type": "code",
   "execution_count": 51,
   "id": "c591034e",
   "metadata": {},
   "outputs": [],
   "source": [
    "#torch.save(model.state_dict(),'cnn_1.ckpt')"
   ]
  }
 ],
 "metadata": {
  "kernelspec": {
   "display_name": "Python 3 (ipykernel)",
   "language": "python",
   "name": "python3"
  },
  "language_info": {
   "codemirror_mode": {
    "name": "ipython",
    "version": 3
   },
   "file_extension": ".py",
   "mimetype": "text/x-python",
   "name": "python",
   "nbconvert_exporter": "python",
   "pygments_lexer": "ipython3",
   "version": "3.9.12"
  }
 },
 "nbformat": 4,
 "nbformat_minor": 5
}
